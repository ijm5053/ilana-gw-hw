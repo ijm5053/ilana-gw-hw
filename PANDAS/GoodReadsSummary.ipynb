{
 "cells": [
  {
   "cell_type": "code",
   "execution_count": null,
   "metadata": {},
   "outputs": [],
   "source": [
    "# Import Dependencies\n",
    "import pandas as pd\n",
    "import os\n"
   ]
  },
  {
   "cell_type": "code",
   "execution_count": null,
   "metadata": {},
   "outputs": [],
   "source": [
    "# File to Load\n",
    "csvpath = os.path.join('Resources', 'books_new.csv')\n",
    "\n",
    "# Read the modified GoodReads csv and store into Pandas DataFrame\n",
    "books_df = pd.read_csv(csvpath)\n",
    "books_df.head()"
   ]
  },
  {
   "cell_type": "code",
   "execution_count": null,
   "metadata": {},
   "outputs": [],
   "source": [
    "# Calculate the number of unique authors in the DataFrame\n",
    "author_count = len(books_df[\"Authors\"].unique())\n",
    "\n",
    "# Calculate the earliest/latest year a book was published\n",
    "earliest_year = books_df[\"Publication Year\"].min()\n",
    "latest_year = books_df[\"Publication Year\"].max()\n",
    "\n",
    "# Calculate the total reviews for the entire dataset\n",
    "# Hint: use the pandas' sum() method to get the sum for each row\n",
    "total_reviews = books_df[\"One Star Reviews\"].sum() + books_df[\"Two Star Reviews\"].sum(\n",
    ") + books_df[\"Three Star Reviews\"].sum() + books_df[\"Four Star Reviews\"].sum() + books_df[\"Five Star Reviews\"].sum()\n"
   ]
  },
  {
   "cell_type": "code",
   "execution_count": null,
   "metadata": {},
   "outputs": [],
   "source": [
    "# Place all of the data found into a summary DataFrame\n",
    "summary_table = pd.DataFrame({\"Total Unique Authors\": [author_count],\n",
    "                              \"Earliest Year\": [earliest_year],\n",
    "                              \"Latest Year\": [latest_year],\n",
    "                              \"Total Reviews\": [total_reviews]})\n",
    "summary_table"
   ]
  },
  {
   "cell_type": "code",
   "execution_count": null,
   "metadata": {},
   "outputs": [],
   "source": []
  }
 ],
 "metadata": {
  "kernelspec": {
   "display_name": "Python 3",
   "language": "python",
   "name": "python3"
  },
  "language_info": {
   "codemirror_mode": {
    "name": "ipython",
    "version": 3
   },
   "file_extension": ".py",
   "mimetype": "text/x-python",
   "name": "python",
   "nbconvert_exporter": "python",
   "pygments_lexer": "ipython3",
   "version": "3.7.6"
  }
 },
 "nbformat": 4,
 "nbformat_minor": 2
}
