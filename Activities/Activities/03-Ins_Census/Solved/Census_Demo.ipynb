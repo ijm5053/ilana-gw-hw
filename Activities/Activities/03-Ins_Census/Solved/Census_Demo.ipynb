{
 "cells": [
  {
   "cell_type": "code",
   "execution_count": null,
   "metadata": {},
   "outputs": [],
   "source": [
    "#!pip install census"
   ]
  },
  {
   "cell_type": "code",
   "execution_count": null,
   "metadata": {},
   "outputs": [],
   "source": [
    "# Dependencies\n",
    "import numpy as np\n",
    "import pandas as pd\n",
    "import matplotlib.pyplot as plt\n",
    "import requests\n",
    "from census import Census\n",
    "\n",
    "# Census API Key\n",
    "from config import api_key\n",
    "c = Census(api_key, year=2017)"
   ]
  },
  {
   "cell_type": "code",
   "execution_count": null,
   "metadata": {},
   "outputs": [],
   "source": [
    "# Run Census Search to retrieve data on all zip codes (2017 ACS5 Census)\n",
    "# See: https://pypi.org/project/census/\n",
    "# More documentation on the ACS data https://www.census.gov/data/developers/data-sets/acs-5year.html\n",
    "# See: https://gist.github.com/afhaque/60558290d6efd892351c4b64e5c01e9b for labels\n",
    "\n",
    "census_data = c.acs5.get((\"NAME\", \"B19013_001E\", \"B01003_001E\", \"B01002_001E\",\n",
    "                          \"B19301_001E\",\n",
    "                          \"B17001_002E\"), {'for': 'zip code tabulation area:*'})\n",
    "\n",
    "# Convert to DataFrame\n",
    "census_df = pd.DataFrame(census_data)\n",
    "\n",
    "# Column Reordering\n",
    "census_df = census_df.rename(columns={\"B01003_001E\": \"Population\",\n",
    "                                      \"B01002_001E\": \"Median Age\",\n",
    "                                      \"B19013_001E\": \"Household Income\",\n",
    "                                      \"B19301_001E\": \"Per Capita Income\",\n",
    "                                      \"B17001_002E\": \"Poverty Count\",\n",
    "                                      \"NAME\": \"Name\", \"zip code tabulation area\": \"Zipcode\"})\n",
    "\n",
    "# Final DataFrame\n",
    "census_df = census_df[[\"Zipcode\", \"Population\", \"Median Age\", \"Household Income\",\n",
    "                       \"Per Capita Income\", \"Poverty Count\"]]\n",
    "\n",
    "# Visualize\n",
    "print(len(census_df))\n",
    "census_df.head()"
   ]
  },
  {
   "cell_type": "code",
   "execution_count": null,
   "metadata": {},
   "outputs": [],
   "source": [
    "# Add in Poverty Rate (Poverty Count / Population)\n",
    "census_df[\"Poverty Rate\"] = 100 * \\\n",
    "    census_df[\"Poverty Count\"].astype(\n",
    "        int) / census_df[\"Population\"].astype(int)\n",
    "\n",
    "census_df"
   ]
  },
  {
   "cell_type": "code",
   "execution_count": null,
   "metadata": {},
   "outputs": [],
   "source": [
    "# Get data for Dart's zipcode in DC\n",
    "census_df.loc[census_df['Zipcode'] == '20002']"
   ]
  },
  {
   "cell_type": "code",
   "execution_count": null,
   "metadata": {},
   "outputs": [],
   "source": [
    "# Get data for Dart's zipcode in DC and Chicago\n",
    "census_df.loc[census_df['Zipcode'] == '60637']"
   ]
  },
  {
   "cell_type": "code",
   "execution_count": null,
   "metadata": {},
   "outputs": [],
   "source": [
    "# Save as a csv\n",
    "# Note to avoid any issues later, use encoding=\"utf-8\"\n",
    "census_df.to_csv(\"census_data.csv\", encoding=\"utf-8\", index=False)"
   ]
  }
 ],
 "metadata": {
  "anaconda-cloud": {},
  "kernelspec": {
   "display_name": "Python 3",
   "language": "python",
   "name": "python3"
  },
  "language_info": {
   "codemirror_mode": {
    "name": "ipython",
    "version": 3
   },
   "file_extension": ".py",
   "mimetype": "text/x-python",
   "name": "python",
   "nbconvert_exporter": "python",
   "pygments_lexer": "ipython3",
   "version": "3.7.4"
  },
  "latex_envs": {
   "LaTeX_envs_menu_present": true,
   "autoclose": false,
   "autocomplete": true,
   "bibliofile": "biblio.bib",
   "cite_by": "apalike",
   "current_citInitial": 1,
   "eqLabelWithNumbers": true,
   "eqNumInitial": 1,
   "hotkeys": {
    "equation": "Ctrl-E",
    "itemize": "Ctrl-I"
   },
   "labels_anchors": false,
   "latex_user_defs": false,
   "report_style_numbering": false,
   "user_envs_cfg": false
  }
 },
 "nbformat": 4,
 "nbformat_minor": 1
}
