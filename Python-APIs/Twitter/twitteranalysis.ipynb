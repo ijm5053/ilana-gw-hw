{
 "cells": [
  {
   "cell_type": "code",
   "execution_count": 1,
   "metadata": {},
   "outputs": [
    {
     "name": "stdout",
     "output_type": "stream",
     "text": [
      "Requirement already satisfied: tweepy in /opt/anaconda3/lib/python3.7/site-packages (3.8.0)\n",
      "Requirement already satisfied: requests>=2.11.1 in /opt/anaconda3/lib/python3.7/site-packages (from tweepy) (2.22.0)\n",
      "Requirement already satisfied: PySocks>=1.5.7 in /opt/anaconda3/lib/python3.7/site-packages (from tweepy) (1.7.1)\n",
      "Requirement already satisfied: requests-oauthlib>=0.7.0 in /opt/anaconda3/lib/python3.7/site-packages (from tweepy) (1.3.0)\n",
      "Requirement already satisfied: six>=1.10.0 in /opt/anaconda3/lib/python3.7/site-packages (from tweepy) (1.14.0)\n",
      "Requirement already satisfied: idna<2.9,>=2.5 in /opt/anaconda3/lib/python3.7/site-packages (from requests>=2.11.1->tweepy) (2.8)\n",
      "Requirement already satisfied: certifi>=2017.4.17 in /opt/anaconda3/lib/python3.7/site-packages (from requests>=2.11.1->tweepy) (2019.11.28)\n",
      "Requirement already satisfied: urllib3!=1.25.0,!=1.25.1,<1.26,>=1.21.1 in /opt/anaconda3/lib/python3.7/site-packages (from requests>=2.11.1->tweepy) (1.25.8)\n",
      "Requirement already satisfied: chardet<3.1.0,>=3.0.2 in /opt/anaconda3/lib/python3.7/site-packages (from requests>=2.11.1->tweepy) (3.0.4)\n",
      "Requirement already satisfied: oauthlib>=3.0.0 in /opt/anaconda3/lib/python3.7/site-packages (from requests-oauthlib>=0.7.0->tweepy) (3.1.0)\n"
     ]
    }
   ],
   "source": [
    "!pip install tweepy"
   ]
  },
  {
   "cell_type": "code",
   "execution_count": 2,
   "metadata": {},
   "outputs": [
    {
     "name": "stdout",
     "output_type": "stream",
     "text": [
      "Requirement already satisfied: vaderSentiment in /Users/alexmultak/opt/anaconda3/lib/python3.7/site-packages (3.3.1)\n",
      "Note: you may need to restart the kernel to use updated packages.\n"
     ]
    }
   ],
   "source": [
    "pip install vaderSentiment"
   ]
  },
  {
   "cell_type": "code",
   "execution_count": 3,
   "metadata": {},
   "outputs": [],
   "source": [
    "# Dependencies\n",
    "import tweepy\n",
    "import json\n",
    "import pandas as pd\n",
    "import os\n",
    "import matplotlib.pyplot as plt\n",
    "from datetime import datetime\n",
    "from vaderSentiment.vaderSentiment import SentimentIntensityAnalyzer\n",
    "analyzer = SentimentIntensityAnalyzer()"
   ]
  },
  {
   "cell_type": "code",
   "execution_count": 4,
   "metadata": {},
   "outputs": [
    {
     "name": "stdout",
     "output_type": "stream",
     "text": [
      "/Users/alexmultak/Desktop/gwu-arl-data-pt-03-2020-u-c/01-Class-Activities/Mon-Wed-Class/07-Social-Analytics/2/Activities/01-Evr_Tweepy_Intro/Solved\n"
     ]
    }
   ],
   "source": [
    "# Get the current working directory\n",
    "orig_working_directory = os.getcwd()\n",
    "print(orig_working_directory)"
   ]
  },
  {
   "cell_type": "code",
   "execution_count": 5,
   "metadata": {},
   "outputs": [],
   "source": [
    "# In this case, we are changing it to seven levels up\n",
    "os.chdir(os.path.join('..','..','..','..','..','..','..'))"
   ]
  },
  {
   "cell_type": "code",
   "execution_count": 6,
   "metadata": {},
   "outputs": [
    {
     "data": {
      "text/plain": [
       "'/Users/alexmultak/Desktop/gwu-arl-data-pt-03-2020-u-c'"
      ]
     },
     "execution_count": 6,
     "metadata": {},
     "output_type": "execute_result"
    }
   ],
   "source": [
    "# Now, you can see the new working directory\n",
    "curr_working_directory = os.getcwd()\n",
    "os.getcwd()"
   ]
  },
  {
   "cell_type": "code",
   "execution_count": 7,
   "metadata": {},
   "outputs": [],
   "source": [
    "# This will search for the config file in the working directory\n",
    "# Be sure that your config file is in your root repo folder\n",
    "\n",
    "from config import consumer_key, consumer_secret, access_token, access_token_secret"
   ]
  },
  {
   "cell_type": "code",
   "execution_count": 8,
   "metadata": {},
   "outputs": [],
   "source": [
    "# Setup Tweepy API Authentication\n",
    "auth = tweepy.OAuthHandler(consumer_key, consumer_secret)\n",
    "auth.set_access_token(access_token, access_token_secret)\n",
    "api = tweepy.API(auth, parser=tweepy.parsers.JSONParser())"
   ]
  },
  {
   "cell_type": "code",
   "execution_count": 9,
   "metadata": {},
   "outputs": [],
   "source": [
    "# Target User Account\n",
    "target_user = [\"BBC\", \"CBSNews\", \"CNN\", \"Fox\", \"nytimes\"]"
   ]
  },
  {
   "cell_type": "code",
   "execution_count": 10,
   "metadata": {},
   "outputs": [],
   "source": [
    "data = []\n",
    "for user in target_user:\n",
    "    \n",
    "    public_tweets = api.user_timeline(user, count=100)\n",
    "    \n",
    "    tweets = []\n",
    "    times = []    \n",
    "    \n",
    "    for tweet in public_tweets:\n",
    "        tweet_text = tweet[\"text\"]\n",
    "        timestamp = datetime.strptime(tweet[\"created_at\"], \"%a %b %d %H:%M:%S %z %Y\")\n",
    "        tweets.append((tweet_text, timestamp))\n",
    "        \n",
    "    for tweet_text, timestamp in tweets:\n",
    "        results = analyzer.polarity_scores(tweet_text)\n",
    "        results[\"tweet\"] = tweet_text\n",
    "        results[\"time\"] = timestamp\n",
    "        results[\"source\"] = user\n",
    "        data.append(results)"
   ]
  },
  {
   "cell_type": "code",
   "execution_count": 12,
   "metadata": {},
   "outputs": [],
   "source": [
    "tweetnews = pd.DataFrame(data)"
   ]
  },
  {
   "cell_type": "code",
   "execution_count": 13,
   "metadata": {},
   "outputs": [
    {
     "data": {
      "text/html": [
       "<div>\n",
       "<style scoped>\n",
       "    .dataframe tbody tr th:only-of-type {\n",
       "        vertical-align: middle;\n",
       "    }\n",
       "\n",
       "    .dataframe tbody tr th {\n",
       "        vertical-align: top;\n",
       "    }\n",
       "\n",
       "    .dataframe thead th {\n",
       "        text-align: right;\n",
       "    }\n",
       "</style>\n",
       "<table border=\"1\" class=\"dataframe\">\n",
       "  <thead>\n",
       "    <tr style=\"text-align: right;\">\n",
       "      <th></th>\n",
       "      <th>neg</th>\n",
       "      <th>neu</th>\n",
       "      <th>pos</th>\n",
       "      <th>compound</th>\n",
       "      <th>tweet</th>\n",
       "      <th>time</th>\n",
       "      <th>source</th>\n",
       "    </tr>\n",
       "  </thead>\n",
       "  <tbody>\n",
       "    <tr>\n",
       "      <th>399</th>\n",
       "      <td>0.000</td>\n",
       "      <td>0.884</td>\n",
       "      <td>0.116</td>\n",
       "      <td>0.2732</td>\n",
       "      <td>How does it work to get tested for #COVID19 in...</td>\n",
       "      <td>2020-04-30 08:03:41+00:00</td>\n",
       "      <td>Fox</td>\n",
       "    </tr>\n",
       "    <tr>\n",
       "      <th>398</th>\n",
       "      <td>0.119</td>\n",
       "      <td>0.881</td>\n",
       "      <td>0.000</td>\n",
       "      <td>-0.4019</td>\n",
       "      <td>Me &amp;amp; my partner been living in isolation s...</td>\n",
       "      <td>2020-04-30 08:03:41+00:00</td>\n",
       "      <td>Fox</td>\n",
       "    </tr>\n",
       "    <tr>\n",
       "      <th>397</th>\n",
       "      <td>0.096</td>\n",
       "      <td>0.846</td>\n",
       "      <td>0.058</td>\n",
       "      <td>-0.2500</td>\n",
       "      <td>I did develop a sore throat &amp;amp; a bit of sne...</td>\n",
       "      <td>2020-04-30 08:03:41+00:00</td>\n",
       "      <td>Fox</td>\n",
       "    </tr>\n",
       "    <tr>\n",
       "      <th>396</th>\n",
       "      <td>0.000</td>\n",
       "      <td>1.000</td>\n",
       "      <td>0.000</td>\n",
       "      <td>0.0000</td>\n",
       "      <td>While she did say that it’s unlikely it would ...</td>\n",
       "      <td>2020-04-30 08:03:42+00:00</td>\n",
       "      <td>Fox</td>\n",
       "    </tr>\n",
       "    <tr>\n",
       "      <th>395</th>\n",
       "      <td>0.000</td>\n",
       "      <td>1.000</td>\n",
       "      <td>0.000</td>\n",
       "      <td>0.0000</td>\n",
       "      <td>I look up the information for where to get tes...</td>\n",
       "      <td>2020-04-30 08:03:42+00:00</td>\n",
       "      <td>Fox</td>\n",
       "    </tr>\n",
       "    <tr>\n",
       "      <th>...</th>\n",
       "      <td>...</td>\n",
       "      <td>...</td>\n",
       "      <td>...</td>\n",
       "      <td>...</td>\n",
       "      <td>...</td>\n",
       "      <td>...</td>\n",
       "      <td>...</td>\n",
       "    </tr>\n",
       "    <tr>\n",
       "      <th>402</th>\n",
       "      <td>0.000</td>\n",
       "      <td>1.000</td>\n",
       "      <td>0.000</td>\n",
       "      <td>0.0000</td>\n",
       "      <td>Some publishers have said the coming wave of b...</td>\n",
       "      <td>2020-05-18 17:50:06+00:00</td>\n",
       "      <td>nytimes</td>\n",
       "    </tr>\n",
       "    <tr>\n",
       "      <th>100</th>\n",
       "      <td>0.000</td>\n",
       "      <td>0.862</td>\n",
       "      <td>0.138</td>\n",
       "      <td>0.3400</td>\n",
       "      <td>New York Governor Andrew Cuomo urges pro sport...</td>\n",
       "      <td>2020-05-18 17:59:59+00:00</td>\n",
       "      <td>CBSNews</td>\n",
       "    </tr>\n",
       "    <tr>\n",
       "      <th>401</th>\n",
       "      <td>0.072</td>\n",
       "      <td>0.821</td>\n",
       "      <td>0.106</td>\n",
       "      <td>0.1779</td>\n",
       "      <td>We asked readers to share their experiences of...</td>\n",
       "      <td>2020-05-18 18:00:09+00:00</td>\n",
       "      <td>nytimes</td>\n",
       "    </tr>\n",
       "    <tr>\n",
       "      <th>200</th>\n",
       "      <td>0.000</td>\n",
       "      <td>1.000</td>\n",
       "      <td>0.000</td>\n",
       "      <td>0.0000</td>\n",
       "      <td>Office Depot stock surged Monday after announc...</td>\n",
       "      <td>2020-05-18 18:00:12+00:00</td>\n",
       "      <td>CNN</td>\n",
       "    </tr>\n",
       "    <tr>\n",
       "      <th>400</th>\n",
       "      <td>0.000</td>\n",
       "      <td>1.000</td>\n",
       "      <td>0.000</td>\n",
       "      <td>0.0000</td>\n",
       "      <td>Attorney General William Barr said he did not ...</td>\n",
       "      <td>2020-05-18 18:02:27+00:00</td>\n",
       "      <td>nytimes</td>\n",
       "    </tr>\n",
       "  </tbody>\n",
       "</table>\n",
       "<p>500 rows × 7 columns</p>\n",
       "</div>"
      ],
      "text/plain": [
       "       neg    neu    pos  compound  \\\n",
       "399  0.000  0.884  0.116    0.2732   \n",
       "398  0.119  0.881  0.000   -0.4019   \n",
       "397  0.096  0.846  0.058   -0.2500   \n",
       "396  0.000  1.000  0.000    0.0000   \n",
       "395  0.000  1.000  0.000    0.0000   \n",
       "..     ...    ...    ...       ...   \n",
       "402  0.000  1.000  0.000    0.0000   \n",
       "100  0.000  0.862  0.138    0.3400   \n",
       "401  0.072  0.821  0.106    0.1779   \n",
       "200  0.000  1.000  0.000    0.0000   \n",
       "400  0.000  1.000  0.000    0.0000   \n",
       "\n",
       "                                                 tweet  \\\n",
       "399  How does it work to get tested for #COVID19 in...   \n",
       "398  Me &amp; my partner been living in isolation s...   \n",
       "397  I did develop a sore throat &amp; a bit of sne...   \n",
       "396  While she did say that it’s unlikely it would ...   \n",
       "395  I look up the information for where to get tes...   \n",
       "..                                                 ...   \n",
       "402  Some publishers have said the coming wave of b...   \n",
       "100  New York Governor Andrew Cuomo urges pro sport...   \n",
       "401  We asked readers to share their experiences of...   \n",
       "200  Office Depot stock surged Monday after announc...   \n",
       "400  Attorney General William Barr said he did not ...   \n",
       "\n",
       "                         time   source  \n",
       "399 2020-04-30 08:03:41+00:00      Fox  \n",
       "398 2020-04-30 08:03:41+00:00      Fox  \n",
       "397 2020-04-30 08:03:41+00:00      Fox  \n",
       "396 2020-04-30 08:03:42+00:00      Fox  \n",
       "395 2020-04-30 08:03:42+00:00      Fox  \n",
       "..                        ...      ...  \n",
       "402 2020-05-18 17:50:06+00:00  nytimes  \n",
       "100 2020-05-18 17:59:59+00:00  CBSNews  \n",
       "401 2020-05-18 18:00:09+00:00  nytimes  \n",
       "200 2020-05-18 18:00:12+00:00      CNN  \n",
       "400 2020-05-18 18:02:27+00:00  nytimes  \n",
       "\n",
       "[500 rows x 7 columns]"
      ]
     },
     "execution_count": 13,
     "metadata": {},
     "output_type": "execute_result"
    }
   ],
   "source": [
    "tweetnews.sort_values(\"time\")"
   ]
  },
  {
   "cell_type": "code",
   "execution_count": 14,
   "metadata": {},
   "outputs": [],
   "source": [
    "cnn = tweetnews[tweetnews[\"source\"]==\"CNN\"]\n",
    "cbs = tweetnews[tweetnews[\"source\"]==\"CBSNews\"]\n",
    "bbc = tweetnews[tweetnews[\"source\"]==\"BBC\"]\n",
    "fox = tweetnews[tweetnews[\"source\"]==\"Fox\"]\n",
    "nyt = tweetnews[tweetnews[\"source\"]==\"nytimes\"]"
   ]
  },
  {
   "cell_type": "code",
   "execution_count": 15,
   "metadata": {},
   "outputs": [
    {
     "data": {
      "text/plain": [
       "<matplotlib.legend.Legend at 0x11dfea490>"
      ]
     },
     "execution_count": 15,
     "metadata": {},
     "output_type": "execute_result"
    },
    {
     "data": {
      "image/png": "[encoded data removed]",
      "text/plain": [
       "<Figure size 432x288 with 1 Axes>"
      ]
     },
     "metadata": {
      "needs_background": "light"
     },
     "output_type": "display_data"
    }
   ],
   "source": [
    "plt.scatter(x=range(len(cnn)), y=cnn[\"compound\"], c=\"pink\", label=\"CNN\", edgecolors='k')\n",
    "plt.scatter(x=range(len(cbs)), y=cbs[\"compound\"], c=\"purple\", label=\"CBS\",  edgecolors='k')\n",
    "plt.scatter(x=range(len(bbc)), y=bbc[\"compound\"], c=\"deeppink\", label=\"BBC\",  edgecolors='k')\n",
    "plt.scatter(x=range(len(fox)), y=fox[\"compound\"], c=\"green\", label=\"Fox\",  edgecolors='k')\n",
    "plt.scatter(x=range(len(nyt)), y=nyt[\"compound\"], c=\"lightblue\", label=\"NYTimes\",  edgecolors='k')\n",
    "\n",
    "plt.title(\"Sentiment Analysis of News Tweets\")\n",
    "plt.xlabel(\"Tweets Ago\")\n",
    "plt.ylabel(\"Tweet Polarity\")\n",
    "\n",
    "plt.legend(loc=9, bbox_to_anchor=(1.25, 1))"
   ]
  },
  {
   "cell_type": "code",
   "execution_count": 16,
   "metadata": {},
   "outputs": [
    {
     "data": {
      "text/plain": [
       "<matplotlib.lines.Line2D at 0x11e82a110>"
      ]
     },
     "execution_count": 16,
     "metadata": {},
     "output_type": "execute_result"
    },
    {
     "data": {
      "image/png": "[encoded data removed]",
      "text/plain": [
       "<Figure size 432x288 with 1 Axes>"
      ]
     },
     "metadata": {
      "needs_background": "light"
     },
     "output_type": "display_data"
    }
   ],
   "source": [
    "plt.bar(x=cnn[\"source\"], height=cnn[\"compound\"].mean(), color=\"pink\", label=\"CNN\")\n",
    "plt.bar(x=cbs[\"source\"], height=cbs[\"compound\"].mean(), color=\"purple\", label=\"CBS\")\n",
    "plt.bar(x=bbc[\"source\"], height=bbc[\"compound\"].mean(), color=\"deeppink\", label=\"BBC\")\n",
    "plt.bar(x=fox[\"source\"], height=fox[\"compound\"].mean(), color=\"green\", label=\"Fox\")\n",
    "plt.bar(x=nyt[\"source\"], height=nyt[\"compound\"].mean(), color=\"lightgreen\", label=\"NYTimes\")\n",
    "\n",
    "# Set a Title, axis labels, legend\n",
    "plt.title(\"Compound Sentiment Analysis of News Tweets\")\n",
    "plt.xlabel(\"News Organization\")\n",
    "plt.ylabel(\"Tweet Polarity\")\n",
    "plt.axhline(c=\"black\")\n",
    "\n",
    "#output image\n",
    "#plt.savefig('sentiment_bar.png')"
   ]
  },
  {
   "cell_type": "markdown",
   "metadata": {},
   "source": [
    "**Obeservations:**\n",
    "-- \n",
    "1) The scatter plot shows us that the tone of BBC's last 100 tweets were the most neutral out of all of the news sources. \n",
    "2) The bar graph shows us that CBS News' tweets had the most negative sentiment out of all of the news sources over the last 100 tweets. \n",
    "3) Out of all of the new sources, CNN and NY Times last 100 tweets were the most similar. The tone of their tweets were close as we could see by both the bar graph and the scatter plot."
   ]
  },
  {
   "cell_type": "code",
   "execution_count": 17,
   "metadata": {},
   "outputs": [],
   "source": [
    "#convert df to csv\n",
    "tweetnews.to_csv('twitterdata.csv') "
   ]
  },
  {
   "cell_type": "code",
   "execution_count": null,
   "metadata": {},
   "outputs": [],
   "source": []
  }
 ],
 "metadata": {
  "kernelspec": {
   "display_name": "Python 3",
   "language": "python",
   "name": "python3"
  },
  "language_info": {
   "codemirror_mode": {
    "name": "ipython",
    "version": 3
   },
   "file_extension": ".py",
   "mimetype": "text/x-python",
   "name": "python",
   "nbconvert_exporter": "python",
   "pygments_lexer": "ipython3",
   "version": "3.7.6"
  },
  "varInspector": {
   "cols": {
    "lenName": 16,
    "lenType": 16,
    "lenVar": 40
   },
   "kernels_config": {
    "python": {
     "delete_cmd_postfix": "",
     "delete_cmd_prefix": "del ",
     "library": "var_list.py",
     "varRefreshCmd": "print(var_dic_list())"
    },
    "r": {
     "delete_cmd_postfix": ") ",
     "delete_cmd_prefix": "rm(",
     "library": "var_list.r",
     "varRefreshCmd": "cat(var_dic_list()) "
    }
   },
   "types_to_exclude": [
    "module",
    "function",
    "builtin_function_or_method",
    "instance",
    "_Feature"
   ],
   "window_display": false
  }
 },
 "nbformat": 4,
 "nbformat_minor": 2
}
